{
  "nbformat": 4,
  "nbformat_minor": 0,
  "metadata": {
    "colab": {
      "name": "pilot_navigation.py",
      "provenance": [],
      "collapsed_sections": [],
      "authorship_tag": "ABX9TyNFOpTynUgWkGPRVBa43BcJ",
      "include_colab_link": true
    },
    "kernelspec": {
      "name": "python3",
      "display_name": "Python 3"
    },
    "language_info": {
      "name": "python"
    }
  },
  "cells": [
    {
      "cell_type": "markdown",
      "metadata": {
        "id": "view-in-github",
        "colab_type": "text"
      },
      "source": [
        "<a href=\"https://colab.research.google.com/github/aninditasarkar0041/Assignment-Submission-Demo/blob/main/pilot_navigation_py.ipynb\" target=\"_parent\"><img src=\"https://colab.research.google.com/assets/colab-badge.svg\" alt=\"Open In Colab\"/></a>"
      ]
    },
    {
      "cell_type": "code",
      "metadata": {
        "colab": {
          "base_uri": "https://localhost:8080/"
        },
        "id": "P2AiYXKpPsd_",
        "outputId": "b17c85af-844b-4ad4-edfc-2bb7e47c7d8d"
      },
      "source": [
        "\n",
        "city=input(\"Which city you want to land:Delhi(D),Mumbai(M),kolkata(K),Bangalore(B)\")\n",
        "\n",
        "if city==\"D\" or city==\"M\" or city==\"K\" or city==\"B\":\n",
        "  altitude=int(input(\"Enter the altitude of your plane in feet:\"))\n",
        "  if altitude<=3000:\n",
        "    print(\"You can land safely.\")\n",
        "  elif altitude>3000 and altitude<6000:\n",
        "    print(\"You can try to land.\")\n",
        "  elif altitude>6000:\n",
        "    print(\"You are not allowed to land .\\n Go Around.\")\n",
        "else:\n",
        "   print(\"Sorry you cannot land here\")"
      ],
      "execution_count": 14,
      "outputs": [
        {
          "output_type": "stream",
          "text": [
            "Which city you want to land:Delhi(D),Mumbai(M),kolkata(K),Bangalore(B)D\n",
            "Enter the altitude of your plane in feet:5000\n",
            "You can try to land.\n"
          ],
          "name": "stdout"
        }
      ]
    },
    {
      "cell_type": "code",
      "metadata": {
        "id": "hWitX_kBTAUh"
      },
      "source": [
        "\n"
      ],
      "execution_count": 12,
      "outputs": []
    },
    {
      "cell_type": "code",
      "metadata": {
        "id": "aovDOH6CTTI9"
      },
      "source": [
        ""
      ],
      "execution_count": 12,
      "outputs": []
    }
  ]
}